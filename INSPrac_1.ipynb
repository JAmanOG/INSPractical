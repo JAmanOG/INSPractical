{
  "nbformat": 4,
  "nbformat_minor": 0,
  "metadata": {
    "colab": {
      "provenance": [],
      "authorship_tag": "ABX9TyPcALgxShjaGv6AHIZeDWaB",
      "include_colab_link": true
    },
    "kernelspec": {
      "name": "python3",
      "display_name": "Python 3"
    },
    "language_info": {
      "name": "python"
    }
  },
  "cells": [
    {
      "cell_type": "markdown",
      "metadata": {
        "id": "view-in-github",
        "colab_type": "text"
      },
      "source": [
        "<a href=\"https://colab.research.google.com/github/JAmanOG/INSPractical/blob/main/INSPrac_1.ipynb\" target=\"_parent\"><img src=\"https://colab.research.google.com/assets/colab-badge.svg\" alt=\"Open In Colab\"/></a>"
      ]
    },
    {
      "cell_type": "code",
      "execution_count": 2,
      "metadata": {
        "colab": {
          "base_uri": "https://localhost:8080/"
        },
        "id": "NZrptWazAhEv",
        "outputId": "56baa8ea-b22c-43cd-bb5a-a078a141f319"
      },
      "outputs": [
        {
          "output_type": "stream",
          "name": "stdout",
          "text": [
            " Enter the text to encrypt Aman\n",
            "Text : Aman\n",
            "Cipher: Dpdq\n"
          ]
        }
      ],
      "source": [
        "def encrypt(text,s):\n",
        "\tresult = \"\"\n",
        "\n",
        "\t# traverse text\n",
        "\tfor i in range(len(text)):\n",
        "\t\tchar = text[i]\n",
        "\n",
        "\t\t# Encrypt uppercase characters\n",
        "\t\tif (char.isupper()):\n",
        "\t\t\tresult += chr((ord(char) + s-65) % 26 + 65)\n",
        "\n",
        "\t\t# Encrypt lowercase characters\n",
        "\t\telse:\n",
        "\t\t\tresult += chr((ord(char) + s - 97) % 26 + 97)\n",
        "\n",
        "\treturn result\n",
        "\n",
        "#check the above function\n",
        "text=input(\" Enter the text to encrypt \")\n",
        "s = 3\n",
        "print(\"Text : \" + text)\n",
        "str(s)\n",
        "print( \"Cipher: \" + encrypt(text,s))"
      ]
    }
  ]
}