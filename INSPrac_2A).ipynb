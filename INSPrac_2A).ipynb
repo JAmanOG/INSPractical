{
  "nbformat": 4,
  "nbformat_minor": 0,
  "metadata": {
    "colab": {
      "provenance": [],
      "authorship_tag": "ABX9TyM+80tNL44Rd3tkalDr3HrL",
      "include_colab_link": true
    },
    "kernelspec": {
      "name": "python3",
      "display_name": "Python 3"
    },
    "language_info": {
      "name": "python"
    }
  },
  "cells": [
    {
      "cell_type": "markdown",
      "metadata": {
        "id": "view-in-github",
        "colab_type": "text"
      },
      "source": [
        "<a href=\"https://colab.research.google.com/github/JAmanOG/INSPractical/blob/main/INSPrac_2A).ipynb\" target=\"_parent\"><img src=\"https://colab.research.google.com/assets/colab-badge.svg\" alt=\"Open In Colab\"/></a>"
      ]
    },
    {
      "cell_type": "code",
      "execution_count": 3,
      "metadata": {
        "colab": {
          "base_uri": "https://localhost:8080/"
        },
        "id": "on4iU8ijC0v8",
        "outputId": "05982780-3b58-4934-bdf5-504cddb4cffd"
      },
      "outputs": [
        {
          "output_type": "stream",
          "name": "stdout",
          "text": [
            "Message data = 12\n",
            "Encrypted data = 3\n",
            "Original Message Sent = 12\n"
          ]
        }
      ],
      "source": [
        "import math\n",
        "\n",
        "def gcd(a, h):\n",
        "    temp = 0\n",
        "    while(1):\n",
        "        temp = a % h\n",
        "        if (temp == 0):\n",
        "            return h\n",
        "        a = h\n",
        "        h = temp\n",
        "\n",
        "p = 3\n",
        "q = 7\n",
        "n = p * q\n",
        "e = 2\n",
        "phi = (p - 1) * (q - 1)\n",
        "\n",
        "while (e < phi):\n",
        "    # e must be co-prime to phi and smaller than phi.\n",
        "    if(gcd(e, phi) == 1):\n",
        "        break\n",
        "    else:\n",
        "        e = e + 1\n",
        "\n",
        "# Private key (d stands for decrypt)\n",
        "# choosing d such that it satisfies d*e = 1 + k * totient\n",
        "k = 2\n",
        "d = (1 + (k * phi)) // e\n",
        "\n",
        "# Message to be encrypted\n",
        "msg = 12\n",
        "print(\"Message data =\", msg)\n",
        "\n",
        "# Encryption c = (msg ^ e) % n\n",
        "c = pow(msg, e, n)\n",
        "print(\"Encrypted data =\", c)\n",
        "\n",
        "# Decryption m = (c ^ d) % n\n",
        "m = pow(c, d, n)\n",
        "print(\"Original Message Sent =\", m)\n"
      ]
    }
  ]
}