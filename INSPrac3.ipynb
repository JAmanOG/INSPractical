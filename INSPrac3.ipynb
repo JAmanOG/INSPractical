{
  "nbformat": 4,
  "nbformat_minor": 0,
  "metadata": {
    "colab": {
      "provenance": [],
      "authorship_tag": "ABX9TyMKq+N7pJgsg74Lfp136Glw",
      "include_colab_link": true
    },
    "kernelspec": {
      "name": "python3",
      "display_name": "Python 3"
    },
    "language_info": {
      "name": "python"
    }
  },
  "cells": [
    {
      "cell_type": "markdown",
      "metadata": {
        "id": "view-in-github",
        "colab_type": "text"
      },
      "source": [
        "<a href=\"https://colab.research.google.com/github/JAmanOG/INSPractical/blob/main/INSPrac3.ipynb\" target=\"_parent\"><img src=\"https://colab.research.google.com/assets/colab-badge.svg\" alt=\"Open In Colab\"/></a>"
      ]
    },
    {
      "cell_type": "code",
      "execution_count": 1,
      "metadata": {
        "colab": {
          "base_uri": "https://localhost:8080/"
        },
        "id": "YqTPON-DcQVQ",
        "outputId": "dc1c984a-dc77-4d63-f12b-4221f1969839"
      },
      "outputs": [
        {
          "output_type": "stream",
          "name": "stdout",
          "text": [
            "The byte equivalent of hash is : b'\\x08\\xb0\\x00z\\xcdQQ\\x18\"\\x94\\xa1\\x8c5\\xb3\\x9d\\xc3'\n",
            "The byte equivalent of hash is : b'\\xb6\\x83\\xd0\\xfe>\\xcc\\xf3k\\x91\\xd8t\\x861\\xcaF\\xbf'\n"
          ]
        }
      ],
      "source": [
        "import hashlib\n",
        "result = hashlib.md5(b'NetworkSecurity')\n",
        "result1 = hashlib.md5(b'NetworkSecuriti')\n",
        "# printing the equivalent byte value.\n",
        "print(\"The byte equivalent of hash is : \", end =\"\")\n",
        "print(result.digest())\n",
        "print(\"The byte equivalent of hash is : \", end =\"\")\n",
        "print(result1.digest())"
      ]
    },
    {
      "cell_type": "code",
      "source": [
        "import hashlib\n",
        "str = input(\" Enter the value to encode \")\n",
        "result = hashlib.sha1(str.encode())\n",
        "print(\"The hexadecima equivalent if SHA1 is : \")\n",
        "print(result.hexdigest())"
      ],
      "metadata": {
        "colab": {
          "base_uri": "https://localhost:8080/"
        },
        "id": "nHWBI-C7cWWQ",
        "outputId": "d725dae6-efa6-4d69-b1ad-3d8bbe46904e"
      },
      "execution_count": 2,
      "outputs": [
        {
          "output_type": "stream",
          "name": "stdout",
          "text": [
            " Enter the value to encode 5256\n",
            "The hexadecima equivalent if SHA1 is : \n",
            "4ac7f0107ada07797a925b4d27ea601359cddf1d\n"
          ]
        }
      ]
    }
  ]
}