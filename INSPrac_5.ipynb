{
  "nbformat": 4,
  "nbformat_minor": 0,
  "metadata": {
    "colab": {
      "provenance": [],
      "authorship_tag": "ABX9TyM9NxHzY9llYmZfFENp0g0j",
      "include_colab_link": true
    },
    "kernelspec": {
      "name": "python3",
      "display_name": "Python 3"
    },
    "language_info": {
      "name": "python"
    }
  },
  "cells": [
    {
      "cell_type": "markdown",
      "metadata": {
        "id": "view-in-github",
        "colab_type": "text"
      },
      "source": [
        "<a href=\"https://colab.research.google.com/github/JAmanOG/INSPractical/blob/main/INSPrac_5.ipynb\" target=\"_parent\"><img src=\"https://colab.research.google.com/assets/colab-badge.svg\" alt=\"Open In Colab\"/></a>"
      ]
    },
    {
      "cell_type": "code",
      "execution_count": 2,
      "metadata": {
        "colab": {
          "base_uri": "https://localhost:8080/"
        },
        "id": "1MQcKcC7zvPH",
        "outputId": "e42bc4e3-e34a-436a-ca70-b2369db585c9"
      },
      "outputs": [
        {
          "output_type": "stream",
          "name": "stdout",
          "text": [
            "The Value of P is :23\n",
            "The Value of G is :9\n",
            "Secret Number for Alice is :4\n",
            "Secret Number for Bob is :6\n",
            "Secret key for the Alice is : 12\n",
            "Secret Key for the Bob is : 12\n"
          ]
        }
      ],
      "source": [
        "from random import randint\n",
        "if __name__ == '__main__':\n",
        "\n",
        " P = 23\n",
        " G = 9\n",
        "\n",
        " print('The Value of P is :%d'%(P))\n",
        " print('The Value of G is :%d'%(G))\n",
        "\n",
        " a = 4\n",
        " print('Secret Number for Alice is :%d'%(a))\n",
        "\n",
        " x = int(pow(G,a,P))\n",
        " b = 6\n",
        " print('Secret Number for Bob is :%d'%(b))\n",
        "\n",
        " y = int(pow(G,b,P))\n",
        " ka = int(pow(y,a,P))\n",
        "\n",
        " kb = int(pow(x,b,P))\n",
        "\n",
        " print('Secret key for the Alice is : %d'%(ka))\n",
        " print('Secret Key for the Bob is : %d'%(kb))"
      ]
    }
  ]
}